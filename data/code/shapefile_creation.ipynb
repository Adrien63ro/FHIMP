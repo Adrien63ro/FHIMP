{
 "cells": [
  {
   "cell_type": "code",
   "execution_count": null,
   "id": "604ed0dc-4c78-4d80-88ce-5b8286c3a0c0",
   "metadata": {},
   "outputs": [],
   "source": [
    "import geopandas as gpd\n",
    "from shapely.geometry import Point\n",
    "import pandas as pd\n",
    "\n",
    "codes = ['01','02','03','04','05','06','07','08','09','10','11']\n",
    "\n",
    "target_stations = pd.read_csv('../stations/FHM-FFAA_station_list_copy.csv')\n",
    "list_of_target_stations = list(set(list(target_stations['Station ID'])))\n",
    "\n",
    "# craete the point shapefile from the station dataset and save\n",
    "gdf = gpd.GeoDataFrame(target_stations,\\\n",
    "                       geometry=gpd.points_from_xy(target_stations['Longitude'], target_stations['Latitude']))\n",
    "gdf.to_file('../stations_point/stations_point.gpkg')\n",
    "\n",
    "\n",
    "# loop over the existing WSC station basin area\n",
    "for code in codes:\n",
    "\n",
    "    shp = gpd.read_file('/project/6008034/Model_Output/WSC_basin_LL/WSC_LL_'+code+'_Z_removed.shp')\n",
    "    \n",
    "    #\n",
    "    list_of_target_stations_slice = [item for item in list_of_target_stations if item.startswith(code)]\n",
    "    print(list_of_target_stations_slice)\n",
    "    print(len(list_of_target_stations_slice))\n",
    "    #\n",
    "    shp_slice = shp [shp['Station'].isin(target_stations['Station ID'])]\n",
    "    print(len(shp_slice))\n",
    "    list_of_target_stations_shp = list(shp['Station'])\n",
    "    print(list_of_target_stations_shp)\n",
    "    print(len(list_of_target_stations_shp))\n",
    "    print(list(filter(lambda item: item not in list_of_target_stations_shp, list_of_target_stations_slice)))\n",
    "    print('------------------')\n",
    "    \n",
    "    #\n",
    "    if not shp_slice.empty: # save each shapefile separatly\n",
    "        for index, row in shp_slice.iterrows():\n",
    "            #print(row)\n",
    "            row_df = gpd.GeoDataFrame([row], geometry='geometry')\n",
    "            row_df.to_file('../stations_shp/'+row['Station']+'.gpkg')\n"
   ]
  },
  {
   "cell_type": "code",
   "execution_count": null,
   "id": "38b8f310-020b-4642-aee5-b112092ac87c",
   "metadata": {},
   "outputs": [],
   "source": [
    "gdf"
   ]
  },
  {
   "cell_type": "code",
   "execution_count": null,
   "id": "1e1e28d0-f3cb-43c9-a94a-5dc835b16c73",
   "metadata": {},
   "outputs": [],
   "source": []
  }
 ],
 "metadata": {
  "kernelspec": {
   "display_name": "fhimp_venv",
   "language": "python",
   "name": "fhimp_venv"
  },
  "language_info": {
   "codemirror_mode": {
    "name": "ipython",
    "version": 3
   },
   "file_extension": ".py",
   "mimetype": "text/x-python",
   "name": "python",
   "nbconvert_exporter": "python",
   "pygments_lexer": "ipython3",
   "version": "3.10.2"
  }
 },
 "nbformat": 4,
 "nbformat_minor": 5
}
