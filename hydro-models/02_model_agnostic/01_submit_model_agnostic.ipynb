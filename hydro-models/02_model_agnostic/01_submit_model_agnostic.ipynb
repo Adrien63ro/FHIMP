{
 "cells": [
  {
   "cell_type": "code",
   "execution_count": null,
   "id": "b42da635-7c6c-447a-982b-4dce81226428",
   "metadata": {},
   "outputs": [],
   "source": [
    "# simulated model agnostic part to prepare the gis file and forcing\n",
    "# change the model-agnostic.json to get the forcing, etc and execute the model-agnostic.sh\n",
    "!model-agnostic.sh model-agnostic.json"
   ]
  }
 ],
 "metadata": {
  "kernelspec": {
   "display_name": "fhimp_venv",
   "language": "python",
   "name": "fhimp_venv"
  },
  "language_info": {
   "codemirror_mode": {
    "name": "ipython",
    "version": 3
   },
   "file_extension": ".py",
   "mimetype": "text/x-python",
   "name": "python",
   "nbconvert_exporter": "python",
   "pygments_lexer": "ipython3",
   "version": "3.10.2"
  }
 },
 "nbformat": 4,
 "nbformat_minor": 5
}
