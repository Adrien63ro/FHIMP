{
 "cells": [
  {
   "cell_type": "markdown",
   "id": "549645a9-c3ca-4d64-aaf9-e9c99f7b39ec",
   "metadata": {},
   "source": [
    "# Conversion of forcing created for MESH to HYPE nc or txt format for model simulation.\n",
    "## nc creation is based on this page:\n",
    "http://www.smhi.net/hype/wiki/doku.php?id=start:hype_file_reference:nnobs.nc"
   ]
  },
  {
   "cell_type": "code",
   "execution_count": 1,
   "id": "4ad8be20-040a-4dbf-8039-4d8cd36f47ed",
   "metadata": {},
   "outputs": [],
   "source": [
    "# packages are loaded\n",
    "import xarray as xr\n",
    "import glob\n",
    "import netCDF4 as nc4\n",
    "import os\n",
    "import pandas as pd\n",
    "from   easymore import Easymore"
   ]
  },
  {
   "cell_type": "code",
   "execution_count": 8,
   "id": "83f85b81-9e5f-4d87-8e28-96456da3004d",
   "metadata": {},
   "outputs": [],
   "source": [
    "# Set the folder path where the remapped .nc file is located for MESH (it can be any remapped nc file)\n",
    "nc_file_source = '/home/shg096/scratch/West/MESH/MESH_forcing.nc'\n",
    "path_to_save = '/home/shg096/scratch/West/HYPE/'\n",
    "if not os.path.isdir(path_to_save):\n",
    "    os.makedirs(path_to_save)"
   ]
  },
  {
   "cell_type": "code",
   "execution_count": 9,
   "id": "cf135bc3-e049-42c9-9a16-eaede46afd3f",
   "metadata": {},
   "outputs": [],
   "source": [
    "# reading the nc file\n",
    "ds = xr.open_dataset(nc_file_source)\n",
    "\n",
    "# rename the subbasin or other dimension name to id based on HYPE instruction\n",
    "ds = ds.rename({'subbasin': 'id'})\n",
    "ds = ds.set_coords(['lat', 'lon'])\n",
    "\n",
    "# drop some of the variables that are not used\n",
    "ds = ds.drop_vars(['RDRS_v2.1_P_UVC_10m',\\\n",
    "                   'RDRS_v2.1_P_FI_SFC',\\\n",
    "                   'RDRS_v2.1_P_FB_SFC',\\\n",
    "                   'RDRS_v2.1_P_HU_1.5m',\\\n",
    "                   'RDRS_v2.1_P_P0_SFC',\\\n",
    "                   'crs']) # ,'lat','lon'\n",
    "\n",
    "# change time from UTC to approximate local time\n",
    "time_diff = -7 # Alberta, BC\n",
    "\n",
    "# roll the time based on hour of difference to have more accurate \n",
    "ds['time'] = ds['time'].roll(time=time_diff)\n",
    "\n",
    "# Remove the first or last roll_steps time steps\n",
    "if time_diff < 0:\n",
    "    ds = ds.isel(time=slice( None, time_diff))\n",
    "elif time_diff > 0:\n",
    "    ds = ds.isel(time=slice( time_diff, None))\n",
    "\n",
    "# sample to daily\n",
    "ds_daily = ds.resample(time='D').mean() # to create the xarray dataframe with daily time\n",
    "ds_daily['TMAXobs'] = ds['RDRS_v2.1_P_TT_1.5m'].resample(time='D').max() - 273.15 # kelvin to C\n",
    "ds_daily['TMINobs'] = ds['RDRS_v2.1_P_TT_1.5m'].resample(time='D').min() - 273.15 # kelvin to C\n",
    "ds_daily['Tobs'] = ds['RDRS_v2.1_P_TT_1.5m'].resample(time='D').mean() - 273.15 # kelvin to C\n",
    "ds_daily['Pobs'] = ds['RDRS_v2.1_P_PR0_SFC'].resample(time='D').sum() * 3600 # mm/s to mm/day \n",
    "\n",
    "ds_daily = ds_daily.drop_vars(['RDRS_v2.1_P_PR0_SFC',\\\n",
    "                               'RDRS_v2.1_P_TT_1.5m'])"
   ]
  },
  {
   "cell_type": "markdown",
   "id": "2ce2a1bc-9017-4849-b13e-d4430ef43970",
   "metadata": {},
   "source": [
    "## save as txt input for HYPE"
   ]
  },
  {
   "cell_type": "code",
   "execution_count": 10,
   "id": "6a19503b-cca7-47e5-b78b-b10a78171a03",
   "metadata": {},
   "outputs": [],
   "source": [
    "ds_daily = ds_daily.drop_vars(['lat','lon'])\n",
    "\n",
    "ds_daily_df_Tmax = ds_daily['TMAXobs'].to_dataframe()\n",
    "ds_daily_df_Tmax = ds_daily_df_Tmax.unstack()\n",
    "ds_daily_df_Tmax = ds_daily_df_Tmax.T\n",
    "ds_daily_df_Tmax = ds_daily_df_Tmax.droplevel(level=0, axis=0)\n",
    "ds_daily_df_Tmax.columns.name = None\n",
    "ds_daily_df_Tmax.index.name = 'Date'\n",
    "ds_daily_df_Tmax\n",
    "ds_daily_df_Tmax.to_csv(path_to_save+'TMAXobs.txt',\\\n",
    "                        sep='\\t', na_rep='', index_label='time', float_format='%.1f')\n",
    "\n",
    "ds_daily_df_Tmin = ds_daily['TMINobs'].to_dataframe()\n",
    "ds_daily_df_Tmin = ds_daily_df_Tmin.unstack()\n",
    "ds_daily_df_Tmin = ds_daily_df_Tmin.T\n",
    "ds_daily_df_Tmin = ds_daily_df_Tmin.droplevel(level=0, axis=0)\n",
    "ds_daily_df_Tmin.columns.name = None\n",
    "ds_daily_df_Tmin.index.name = 'Date'\n",
    "ds_daily_df_Tmin\n",
    "ds_daily_df_Tmin.to_csv(path_to_save+'TMINobs.txt',\\\n",
    "                        sep='\\t', na_rep='', index_label='time', float_format='%.1f')\n",
    "\n",
    "ds_daily_df_Tmean = ds_daily['Tobs'].to_dataframe()\n",
    "ds_daily_df_Tmean = ds_daily_df_Tmean.unstack()\n",
    "ds_daily_df_Tmean = ds_daily_df_Tmean.T\n",
    "ds_daily_df_Tmean = ds_daily_df_Tmean.droplevel(level=0, axis=0)\n",
    "ds_daily_df_Tmean.columns.name = None\n",
    "ds_daily_df_Tmean.index.name = 'Date'\n",
    "ds_daily_df_Tmean\n",
    "ds_daily_df_Tmean.to_csv(path_to_save+'Tobs.txt',\\\n",
    "                         sep='\\t', na_rep='', index_label='time', float_format='%.1f')\n",
    "\n",
    "ds_daily_df_Pobs = ds_daily['Pobs'].to_dataframe()\n",
    "ds_daily_df_Pobs = ds_daily_df_Pobs.unstack()\n",
    "ds_daily_df_Pobs = ds_daily_df_Pobs.T\n",
    "ds_daily_df_Pobs = ds_daily_df_Pobs.droplevel(level=0, axis=0)\n",
    "ds_daily_df_Pobs.columns.name = None\n",
    "ds_daily_df_Pobs.index.name = 'Date'\n",
    "ds_daily_df_Pobs\n",
    "ds_daily_df_Pobs.to_csv(path_to_save+'Pobs.txt',\\\n",
    "                         sep='\\t', na_rep='', index_label='time', float_format='%.1f')\n"
   ]
  },
  {
   "cell_type": "markdown",
   "id": "8cc62467-53fd-4370-a723-6b183bf3968c",
   "metadata": {},
   "source": [
    "## save nc from dataframes above"
   ]
  },
  {
   "cell_type": "code",
   "execution_count": 13,
   "id": "809b847b-c6ea-4ab0-b2bc-438d6b73bbaa",
   "metadata": {},
   "outputs": [
    {
     "name": "stdout",
     "output_type": "stream",
     "text": [
      "EASYMORE version 2.0.0 is initiated.\n",
      "EASYMORE detects that the input datafarame is pandas dataframe\n",
      "EASYMORE detects that index is pandas datatime\n",
      "EASYMORE saved the nc file here:  /home/shg096/scratch/West/HYPE/TMAXobs.nc\n",
      "EASYMORE detects that the input datafarame is pandas dataframe\n",
      "EASYMORE detects that index is pandas datatime\n",
      "EASYMORE saved the nc file here:  /home/shg096/scratch/West/HYPE/TMINobs.nc\n",
      "EASYMORE detects that the input datafarame is pandas dataframe\n",
      "EASYMORE detects that index is pandas datatime\n",
      "EASYMORE saved the nc file here:  /home/shg096/scratch/West/HYPE/Tobs.nc\n",
      "EASYMORE detects that the input datafarame is pandas dataframe\n",
      "EASYMORE detects that index is pandas datatime\n",
      "EASYMORE saved the nc file here:  /home/shg096/scratch/West/HYPE/Pobs.nc\n"
     ]
    }
   ],
   "source": [
    "esmr = Easymore()\n",
    "ds = esmr.dataframe_to_netcdf_xr(ds_daily_df_Tmax,\n",
    "                                 data_frame_DateTime_column = 'Date',\n",
    "                                 variable_name = 'TMAXobs',\n",
    "                                 variable_dim_name = 'id',\n",
    "                                 unit_of_variable = 'C',\n",
    "                                 variable_long_name = 'maximume daily temprature',\n",
    "                                 Fill_value = -9999.0,\n",
    "                                 nc_file_name = path_to_save+'TMAXobs.nc')\n",
    "\n",
    "ds = esmr.dataframe_to_netcdf_xr(ds_daily_df_Tmin,\n",
    "                                 data_frame_DateTime_column = 'Date',\n",
    "                                 variable_name = 'TMINobs',\n",
    "                                 variable_dim_name = 'id',\n",
    "                                 unit_of_variable = 'C',\n",
    "                                 variable_long_name = 'minimume daily temprature',\n",
    "                                 Fill_value = -9999.0,\n",
    "                                 nc_file_name = path_to_save+'TMINobs.nc')\n",
    "\n",
    "ds = esmr.dataframe_to_netcdf_xr(ds_daily_df_Tmean,\n",
    "                                 data_frame_DateTime_column = 'Date',\n",
    "                                 variable_name = 'Tobs',\n",
    "                                 variable_dim_name = 'id',\n",
    "                                 unit_of_variable = 'C',\n",
    "                                 variable_long_name = 'mean daily temprature',\n",
    "                                 Fill_value = -9999.0,\n",
    "                                 nc_file_name = path_to_save+'Tobs.nc')\n",
    "\n",
    "ds = esmr.dataframe_to_netcdf_xr(ds_daily_df_Pobs,\n",
    "                                 data_frame_DateTime_column = 'Date',\n",
    "                                 variable_name = 'Pobs',\n",
    "                                 variable_dim_name = 'id',\n",
    "                                 unit_of_variable = 'mm',\n",
    "                                 variable_long_name = 'Precipitation',\n",
    "                                 Fill_value = -9999.0,\n",
    "                                 nc_file_name = path_to_save+'Pobs.nc')\n"
   ]
  },
  {
   "cell_type": "code",
   "execution_count": 12,
   "id": "b3d356d6-061f-4747-bea8-9fdde0c18f4e",
   "metadata": {},
   "outputs": [],
   "source": [
    "# # create the path to save if not exists\n",
    "# if not os.path.isdir(path_to_save):\n",
    "#     os.makedirs(path_to_save)\n",
    "\n",
    "# # Tmax\n",
    "# os.remove(path_to_save+'TMAXobs.nc')\n",
    "# TMAXobs = ds_daily.copy()\n",
    "# TMAXobs = TMAXobs.drop_vars(['TMINobs','Tobs','Pobs'])\n",
    "# TMAXobs.to_netcdf(path_to_save+'TMAXobs.nc', encoding = {'TMAXobs':{'_FillValue': -9999}})\n",
    "# TMAXobs.to_netcdf(path_to_save+'TMAXobs.nc')\n",
    "\n",
    "# # Tmin\n",
    "# os.remove(path_to_save+'TMINobs.nc')\n",
    "# TMINobs = ds_daily.copy()\n",
    "# TMINobs = TMINobs.drop_vars(['TMAXobs','Tobs','Pobs'])\n",
    "# TMINobs.to_netcdf(path_to_save+'TMINobs.nc', encoding = {'TMINobs':{'_FillValue': -9999}})\n",
    "# TMINobs.to_netcdf(path_to_save+'TMINobs.nc')\n",
    "\n",
    "# # T\n",
    "# os.remove(path_to_save+'Tobs.nc')\n",
    "# Tobs = ds_daily.copy()\n",
    "# Tobs = Tobs.drop_vars(['TMAXobs','TMINobs','Pobs'])\n",
    "# Tobs.to_netcdf(path_to_save+'Tobs.nc', encoding = {'Tobs':{'_FillValue': -9999}})\n",
    "# Tobs.to_netcdf(path_to_save+'Tobs.nc')\n",
    "\n",
    "# # P\n",
    "# os.remove(path_to_save+'Pobs.nc')\n",
    "# Pobs = ds_daily.copy()\n",
    "# Pobs = Pobs.drop_vars(['TMAXobs','TMINobs','Tobs'])\n",
    "# Pobs.to_netcdf(path_to_save+'Pobs.nc', encoding = {'Pobs':{'_FillValue': -9999}})\n",
    "# Pobs.to_netcdf(path_to_save+'Pobs.nc')"
   ]
  },
  {
   "cell_type": "code",
   "execution_count": null,
   "id": "0441fd47-b041-450d-b189-a62a03f0938c",
   "metadata": {},
   "outputs": [],
   "source": []
  }
 ],
 "metadata": {
  "kernelspec": {
   "display_name": "fhimp_venv",
   "language": "python",
   "name": "fhimp_venv"
  },
  "language_info": {
   "codemirror_mode": {
    "name": "ipython",
    "version": 3
   },
   "file_extension": ".py",
   "mimetype": "text/x-python",
   "name": "python",
   "nbconvert_exporter": "python",
   "pygments_lexer": "ipython3",
   "version": "3.10.2"
  }
 },
 "nbformat": 4,
 "nbformat_minor": 5
}
