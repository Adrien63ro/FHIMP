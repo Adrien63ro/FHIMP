{
 "cells": [
  {
   "cell_type": "markdown",
   "id": "549645a9-c3ca-4d64-aaf9-e9c99f7b39ec",
   "metadata": {},
   "source": [
    "# Conversion of forcing created for MESH to HYPE nc or txt format for model simulation.\n",
    "## nc creation is based on this page:\n",
    "http://www.smhi.net/hype/wiki/doku.php?id=start:hype_file_reference:nnobs.nc"
   ]
  },
  {
   "cell_type": "code",
   "execution_count": 1,
   "id": "4ad8be20-040a-4dbf-8039-4d8cd36f47ed",
   "metadata": {},
   "outputs": [],
   "source": [
    "# packages are loaded\n",
    "import xarray as xr\n",
    "import glob\n",
    "import netCDF4 as nc4\n",
    "import os"
   ]
  },
  {
   "cell_type": "code",
   "execution_count": 2,
   "id": "83f85b81-9e5f-4d87-8e28-96456da3004d",
   "metadata": {},
   "outputs": [],
   "source": [
    "# Set the folder path where the remapped .nc file is located for MESH (it can be any remapped nc file)\n",
    "nc_file_source = '/home/shg096/scratch/West/mesh_model/MESH_forcing.nc'\n",
    "path_to_save = '/home/shg096/scratch/West/HYPE/'"
   ]
  },
  {
   "cell_type": "code",
   "execution_count": 3,
   "id": "cf135bc3-e049-42c9-9a16-eaede46afd3f",
   "metadata": {},
   "outputs": [],
   "source": [
    "# reading the nc file\n",
    "ds = xr.open_dataset(nc_file_source)\n",
    "\n",
    "# rename the subbasin or other dimension name to id based on HYPE instruction\n",
    "ds = ds.rename({'subbasin': 'id'})\n",
    "ds = ds.set_coords(['lat', 'lon'])\n",
    "\n",
    "# drop some of the variables that are not used\n",
    "ds = ds.drop_vars(['RDRS_v2.1_P_UVC_10m',\\\n",
    "                   'RDRS_v2.1_P_FI_SFC',\\\n",
    "                   'RDRS_v2.1_P_FB_SFC',\\\n",
    "                   'RDRS_v2.1_P_HU_1.5m',\\\n",
    "                   'RDRS_v2.1_P_P0_SFC',\\\n",
    "                   'crs']) # ,'lat','lon'\n",
    "\n",
    "# change time from UTC to approximate local time\n",
    "time_diff = -7 # Alberta, BC\n",
    "\n",
    "# roll the time based on hour of difference to have more accurate \n",
    "ds['time'] = ds['time'].roll(time=time_diff)\n",
    "\n",
    "# Remove the first or last roll_steps time steps\n",
    "if time_diff < 0:\n",
    "    ds = ds.isel(time=slice( None, time_diff))\n",
    "elif time_diff > 0:\n",
    "    ds = ds.isel(time=slice( time_diff, None))\n",
    "\n",
    "# sample to daily\n",
    "ds_daily = ds.resample(time='D').mean() # to create the xarray dataframe with daily time\n",
    "ds_daily['TMAXobs'] = ds['RDRS_v2.1_P_TT_1.5m'].resample(time='D').max() - 273.15 # kelvin to C\n",
    "ds_daily['TMINobs'] = ds['RDRS_v2.1_P_TT_1.5m'].resample(time='D').min() - 273.15 # kelvin to C\n",
    "ds_daily['Tobs'] = ds['RDRS_v2.1_P_TT_1.5m'].resample(time='D').mean() - 273.15 # kelvin to C\n",
    "ds_daily['Pobs'] = ds['RDRS_v2.1_P_PR0_SFC'].resample(time='D').sum() * 3600 # mm/s to mm/day \n",
    "\n",
    "ds_daily = ds_daily.drop_vars(['RDRS_v2.1_P_PR0_SFC',\\\n",
    "                               'RDRS_v2.1_P_TT_1.5m'])"
   ]
  },
  {
   "cell_type": "markdown",
   "id": "97255154-bc1a-4aea-8591-401dd0b23fc7",
   "metadata": {},
   "source": [
    "## save as nc files"
   ]
  },
  {
   "cell_type": "code",
   "execution_count": 4,
   "id": "ab3d2623-27ad-49ff-8116-810f974260d4",
   "metadata": {},
   "outputs": [],
   "source": [
    "# create the path to save if not exists\n",
    "if not os.path.isdir(path_to_save):\n",
    "    os.makedirs(path_to_save)\n",
    "\n",
    "# Tmax\n",
    "os.remove(path_to_save+'TMAXobs.nc')\n",
    "TMAXobs = ds_daily.copy()\n",
    "TMAXobs = TMAXobs.drop_vars(['TMINobs','Tobs','Pobs'])\n",
    "TMAXobs.to_netcdf(path_to_save+'TMAXobs.nc', encoding = {'TMAXobs':{'_FillValue': -9999}})\n",
    "TMAXobs.to_netcdf(path_to_save+'TMAXobs.nc')\n",
    "\n",
    "# Tmin\n",
    "os.remove(path_to_save+'TMINobs.nc')\n",
    "TMINobs = ds_daily.copy()\n",
    "TMINobs = TMINobs.drop_vars(['TMAXobs','Tobs','Pobs'])\n",
    "TMINobs.to_netcdf(path_to_save+'TMINobs.nc', encoding = {'TMINobs':{'_FillValue': -9999}})\n",
    "TMINobs.to_netcdf(path_to_save+'TMINobs.nc')\n",
    "\n",
    "# T\n",
    "os.remove(path_to_save+'Tobs.nc')\n",
    "Tobs = ds_daily.copy()\n",
    "Tobs = Tobs.drop_vars(['TMAXobs','TMINobs','Pobs'])\n",
    "Tobs.to_netcdf(path_to_save+'Tobs.nc', encoding = {'Tobs':{'_FillValue': -9999}})\n",
    "Tobs.to_netcdf(path_to_save+'Tobs.nc')\n",
    "\n",
    "# P\n",
    "os.remove(path_to_save+'Pobs.nc')\n",
    "Pobs = ds_daily.copy()\n",
    "Pobs = Pobs.drop_vars(['TMAXobs','TMINobs','Tobs'])\n",
    "Pobs.to_netcdf(path_to_save+'Pobs.nc', encoding = {'Pobs':{'_FillValue': -9999}})\n",
    "Pobs.to_netcdf(path_to_save+'Pobs.nc')"
   ]
  },
  {
   "cell_type": "markdown",
   "id": "2ce2a1bc-9017-4849-b13e-d4430ef43970",
   "metadata": {},
   "source": [
    "## save as txt file for input if needed"
   ]
  },
  {
   "cell_type": "code",
   "execution_count": 5,
   "id": "6a19503b-cca7-47e5-b78b-b10a78171a03",
   "metadata": {},
   "outputs": [],
   "source": [
    "ds_daily = ds_daily.drop_vars(['lat','lon'])\n",
    "\n",
    "ds_daily_df_Tmax = ds_daily['TMAXobs'].to_dataframe()\n",
    "ds_daily_df_Tmax = ds_daily_df_Tmax.unstack()\n",
    "ds_daily_df_Tmax = ds_daily_df_Tmax.T\n",
    "ds_daily_df_Tmax = ds_daily_df_Tmax.droplevel(level=0, axis=0)\n",
    "ds_daily_df_Tmax.columns.name = None\n",
    "ds_daily_df_Tmax.index.name = 'Date'\n",
    "ds_daily_df_Tmax\n",
    "ds_daily_df_Tmax.to_csv(path_to_save+'TMAXobs.txt',\\\n",
    "                        sep='\\t', na_rep='', index_label='time', float_format='%.1f')\n",
    "\n",
    "ds_daily_df_Tmin = ds_daily['TMINobs'].to_dataframe()\n",
    "ds_daily_df_Tmin = ds_daily_df_Tmin.unstack()\n",
    "ds_daily_df_Tmin = ds_daily_df_Tmin.T\n",
    "ds_daily_df_Tmin = ds_daily_df_Tmin.droplevel(level=0, axis=0)\n",
    "ds_daily_df_Tmin.columns.name = None\n",
    "ds_daily_df_Tmin.index.name = 'Date'\n",
    "ds_daily_df_Tmin\n",
    "ds_daily_df_Tmin.to_csv(path_to_save+'TMINobs.txt',\\\n",
    "                        sep='\\t', na_rep='', index_label='time', float_format='%.1f')\n",
    "\n",
    "ds_daily_df_Tmean = ds_daily['Tobs'].to_dataframe()\n",
    "ds_daily_df_Tmean = ds_daily_df_Tmean.unstack()\n",
    "ds_daily_df_Tmean = ds_daily_df_Tmean.T\n",
    "ds_daily_df_Tmean = ds_daily_df_Tmean.droplevel(level=0, axis=0)\n",
    "ds_daily_df_Tmean.columns.name = None\n",
    "ds_daily_df_Tmean.index.name = 'Date'\n",
    "ds_daily_df_Tmean\n",
    "ds_daily_df_Tmean.to_csv(path_to_save+'Tobs.txt',\\\n",
    "                         sep='\\t', na_rep='', index_label='time', float_format='%.1f')\n",
    "\n",
    "ds_daily_df_Pobs = ds_daily['Pobs'].to_dataframe()\n",
    "ds_daily_df_Pobs = ds_daily_df_Pobs.unstack()\n",
    "ds_daily_df_Pobs = ds_daily_df_Pobs.T\n",
    "ds_daily_df_Pobs = ds_daily_df_Pobs.droplevel(level=0, axis=0)\n",
    "ds_daily_df_Pobs.columns.name = None\n",
    "ds_daily_df_Pobs.index.name = 'Date'\n",
    "ds_daily_df_Pobs\n",
    "ds_daily_df_Pobs.to_csv(path_to_save+'Pobs.txt',\\\n",
    "                         sep='\\t', na_rep='', index_label='time', float_format='%.1f')\n"
   ]
  },
  {
   "cell_type": "code",
   "execution_count": 6,
   "id": "12cfe6e5-f88e-4c1a-b264-704cb8451a17",
   "metadata": {},
   "outputs": [],
   "source": [
    "# EXTRA code for generating a few days of input for testing a set up\n",
    "# \n",
    "# List of column names\n",
    "# columns = list (landcover_type_prepared['subid'])\n",
    "\n",
    "# # Start date and end date\n",
    "# start_date = datetime.date(2023, 10, 1)\n",
    "# end_date = start_date + datetime.timedelta(days=9)  # 10 days\n",
    "\n",
    "# # List of dates for 10 days\n",
    "# dates = [start_date + datetime.timedelta(days=i) for i in range(10)]\n",
    "\n",
    "# # Create an empty DataFrame\n",
    "# df = pd.DataFrame(columns=columns, index=dates)\n",
    "\n",
    "# df = df.round(3)\n",
    "\n",
    "# df.index.name = 'Date'\n",
    "\n",
    "# ##\n",
    "# for col in columns:\n",
    "#     df[col] = np.random.uniform(0, 1, size=len(dates))\n",
    "# df.to_csv(path_to_save+'Pobs.txt', sep='\\t', na_rep='', index_label='Date', float_format='%.2f')\n",
    "\n",
    "# for i, col in enumerate(columns):\n",
    "#     # Generate values from -5 to +5 for each column\n",
    "#     df[col] = [(i % 11) - 5 for i in range(len(dates))]\n",
    "# df.to_csv(path_to_save+'Tobs.txt', sep='\\t', na_rep='', index_label='Date', float_format='%.1f')\n",
    "\n",
    "# for col in columns:\n",
    "#     df[col] = df[col]+1\n",
    "# df.to_csv(path_to_save+'TMAXobs.txt', sep='\\t', na_rep='', index_label='Date', float_format='%.1f')\n",
    "\n",
    "# for col in columns:\n",
    "#     df[col] = df[col]-2\n",
    "# df.to_csv(path_to_save+'TMINobs.txt', sep='\\t', na_rep='', index_label='Date', float_format='%.1f')"
   ]
  },
  {
   "cell_type": "code",
   "execution_count": 7,
   "id": "c8621af2-b528-4068-ad34-690508fca0d6",
   "metadata": {},
   "outputs": [
    {
     "data": {
      "text/plain": [
       "masked_array(\n",
       "  data=[[-19.76161954,  -7.8089399 ,  -9.97479155, ..., -19.90054982,\n",
       "         -18.02817686, -23.21726809],\n",
       "        [-17.35760057,  -7.66104934,  -9.96431556, ..., -19.38495723,\n",
       "         -17.74385849, -22.94001826],\n",
       "        [-15.84581261,  -8.02279789, -10.15236716, ..., -19.6420587 ,\n",
       "         -18.01059101, -23.25255864],\n",
       "        ...,\n",
       "        [-13.43259172,  -5.85975205,  -1.03139569, ..., -19.20718218,\n",
       "         -21.62915074, -22.99387594],\n",
       "        [ -9.24669858,   0.96465074,  -1.44407905, ..., -21.4311276 ,\n",
       "         -20.44699877, -23.53324109],\n",
       "        [-11.76461008,  -0.43071804,  -2.08934352, ..., -16.72650111,\n",
       "         -17.60499673, -21.32597125]],\n",
       "  mask=False,\n",
       "  fill_value=1e+20)"
      ]
     },
     "execution_count": 7,
     "metadata": {},
     "output_type": "execute_result"
    }
   ],
   "source": [
    "import xarray as xr\n",
    "ds = xr.open_dataset(path_to_save+'TMAXobs.nc')\n",
    "ds\n",
    "import netCDF4 as nc4\n",
    "\n",
    "ncid = nc4.Dataset(path_to_save+'TMAXobs.nc')\n",
    "ncid['TMAXobs'][:]"
   ]
  },
  {
   "cell_type": "code",
   "execution_count": 11,
   "id": "809b847b-c6ea-4ab0-b2bc-438d6b73bbaa",
   "metadata": {},
   "outputs": [
    {
     "name": "stdout",
     "output_type": "stream",
     "text": [
      "EASYMORE version 2.0.0 is initiated.\n",
      "EASYMORE detects that the input datafarame is pandas dataframe\n",
      "EASYMORE detects that index is pandas datatime\n",
      "EASYMORE saved the nc file here:  /home/shg096/scratch/West/HYPE/TMAXobs.nc\n",
      "EASYMORE detects that the input datafarame is pandas dataframe\n",
      "EASYMORE detects that index is pandas datatime\n",
      "EASYMORE saved the nc file here:  /home/shg096/scratch/West/HYPE/TMINobs.nc\n",
      "EASYMORE detects that the input datafarame is pandas dataframe\n",
      "EASYMORE detects that index is pandas datatime\n",
      "EASYMORE saved the nc file here:  /home/shg096/scratch/West/HYPE/Tobs.nc\n",
      "EASYMORE detects that the input datafarame is pandas dataframe\n",
      "EASYMORE detects that index is pandas datatime\n",
      "EASYMORE saved the nc file here:  /home/shg096/scratch/West/HYPE/Pobs.nc\n"
     ]
    }
   ],
   "source": [
    "\n",
    "import pandas as pd\n",
    "from   easymore import Easymore\n",
    "esmr = Easymore()\n",
    "\n",
    "ds = esmr.dataframe_to_netcdf_xr(ds_daily_df_Tmax,\n",
    "                                 data_frame_DateTime_column = 'Date',\n",
    "                                 variable_name = 'TMAXobs',\n",
    "                                 variable_dim_name = 'id',\n",
    "                                 unit_of_variable = 'C',\n",
    "                                 variable_long_name = 'maximume daily temprature',\n",
    "                                 Fill_value = -9999.0,\n",
    "                                 nc_file_name = path_to_save+'TMAXobs.nc')\n",
    "\n",
    "ds = esmr.dataframe_to_netcdf_xr(ds_daily_df_Tmin,\n",
    "                                 data_frame_DateTime_column = 'Date',\n",
    "                                 variable_name = 'TMINobs',\n",
    "                                 variable_dim_name = 'id',\n",
    "                                 unit_of_variable = 'C',\n",
    "                                 variable_long_name = 'minimume daily temprature',\n",
    "                                 Fill_value = -9999.0,\n",
    "                                 nc_file_name = path_to_save+'TMINobs.nc')\n",
    "\n",
    "ds = esmr.dataframe_to_netcdf_xr(ds_daily_df_Tmean,\n",
    "                                 data_frame_DateTime_column = 'Date',\n",
    "                                 variable_name = 'Tobs',\n",
    "                                 variable_dim_name = 'id',\n",
    "                                 unit_of_variable = 'C',\n",
    "                                 variable_long_name = 'mean daily temprature',\n",
    "                                 Fill_value = -9999.0,\n",
    "                                 nc_file_name = path_to_save+'Tobs.nc')\n",
    "\n",
    "ds = esmr.dataframe_to_netcdf_xr(ds_daily_df_Pobs,\n",
    "                                 data_frame_DateTime_column = 'Date',\n",
    "                                 variable_name = 'Pobs',\n",
    "                                 variable_dim_name = 'id',\n",
    "                                 unit_of_variable = 'mm',\n",
    "                                 variable_long_name = 'Precipitation',\n",
    "                                 Fill_value = -9999.0,\n",
    "                                 nc_file_name = path_to_save+'Pobs.nc')\n"
   ]
  },
  {
   "cell_type": "code",
   "execution_count": 9,
   "id": "9e17271a-23f7-49d6-808c-5429386dfdfa",
   "metadata": {},
   "outputs": [
    {
     "data": {
      "text/plain": [
       "masked_array(\n",
       "  data=[[1.25906552e+00, 1.23255970e+01, 4.52812427e+01, ...,\n",
       "         6.30789444e+00, 1.03934755e+01, 3.76399188e+00],\n",
       "        [1.67402785e+00, 1.38089692e+01, 2.24481744e+01, ...,\n",
       "         7.58311958e+00, 1.17308854e+01, 4.32474035e+00],\n",
       "        [1.04241813e+00, 1.09317900e+01, 1.94108898e+01, ...,\n",
       "         6.64320928e+00, 1.54422871e+01, 4.17991734e+00],\n",
       "        ...,\n",
       "        [7.16244548e-01, 2.77346969e+00, 1.37728321e+00, ...,\n",
       "         3.51510326e+00, 2.54618342e+01, 2.35296378e-01],\n",
       "        [1.42436485e-11, 5.73219146e-01, 9.30283397e+00, ...,\n",
       "         5.85656441e+00, 1.74082997e+01, 2.78011610e+00],\n",
       "        [4.53633502e-08, 2.89883131e-01, 9.19356593e+00, ...,\n",
       "         4.63440869e+00, 1.75236343e+01, 2.14371611e+00]],\n",
       "  mask=False,\n",
       "  fill_value=1e+20)"
      ]
     },
     "execution_count": 9,
     "metadata": {},
     "output_type": "execute_result"
    }
   ],
   "source": [
    "import netCDF4 as nc4\n",
    "\n"
   ]
  },
  {
   "cell_type": "code",
   "execution_count": null,
   "id": "b3d356d6-061f-4747-bea8-9fdde0c18f4e",
   "metadata": {},
   "outputs": [],
   "source": []
  },
  {
   "cell_type": "code",
   "execution_count": null,
   "id": "dc5a97eb-a504-415e-9f41-2cb8aa94761d",
   "metadata": {},
   "outputs": [],
   "source": []
  },
  {
   "cell_type": "code",
   "execution_count": null,
   "id": "ce0c6701-301f-4165-b366-8bb8af418a96",
   "metadata": {},
   "outputs": [],
   "source": []
  }
 ],
 "metadata": {
  "kernelspec": {
   "display_name": "fhimp_venv",
   "language": "python",
   "name": "fhimp_venv"
  },
  "language_info": {
   "codemirror_mode": {
    "name": "ipython",
    "version": 3
   },
   "file_extension": ".py",
   "mimetype": "text/x-python",
   "name": "python",
   "nbconvert_exporter": "python",
   "pygments_lexer": "ipython3",
   "version": "3.10.2"
  }
 },
 "nbformat": 4,
 "nbformat_minor": 5
}
