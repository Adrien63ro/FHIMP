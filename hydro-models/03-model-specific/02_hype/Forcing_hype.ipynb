{
 "cells": [
  {
   "cell_type": "code",
   "execution_count": 1,
   "id": "06b84ed4-d65e-4492-b325-0579b3802a32",
   "metadata": {},
   "outputs": [],
   "source": [
    "import xarray as xr\n",
    "import glob\n",
    "import netCDF4 as nc4\n"
   ]
  },
  {
   "cell_type": "markdown",
   "id": "cb5172af-83a5-4290-8fd2-00e67e4a7f35",
   "metadata": {},
   "source": [
    "# based on this page:\n",
    "http://www.smhi.net/hype/wiki/doku.php?id=start:hype_file_reference:nnobs.nc"
   ]
  },
  {
   "cell_type": "code",
   "execution_count": 2,
   "id": "94c180d6-2f72-465c-b7d4-ec314fb2bd11",
   "metadata": {},
   "outputs": [],
   "source": [
    "# Set the folder path where your remapped .nc files are located and direct to MESH file\n",
    "mesh_nc_file = '/home/shg096/scratch/Bow_at_Calgary/mesh_model/MESH_forcing.nc'\n",
    "\n",
    "#\n",
    "ds = xr.open_dataset(mesh_nc_file)\n",
    "\n",
    "# rename the subbasin to id\n",
    "ds = ds.rename({'subbasin': 'id'})\n",
    "ds = ds.set_coords(['lat', 'lon'])\n",
    "\n",
    "# drop variables\n",
    "ds = ds.drop_vars(['RDRS_v2.1_P_UVC_10m',\\\n",
    "                   'RDRS_v2.1_P_FI_SFC',\\\n",
    "                   'RDRS_v2.1_P_FB_SFC',\\\n",
    "                   'RDRS_v2.1_P_HU_1.5m',\\\n",
    "                   'RDRS_v2.1_P_P0_SFC',\\\n",
    "                   'crs']) # ,'lat','lon'\n",
    "\n",
    "# change time from UTC to approximate local time\n",
    "time_diff = -7 # Alberta, BC\n",
    "\n",
    "#\n",
    "ds['time'] = ds['time'].roll(time=time_diff)\n",
    "\n",
    "# Remove the first roll_steps time steps\n",
    "if time_diff < 0:\n",
    "    ds = ds.isel(time=slice( None, time_diff))\n",
    "elif time_diff > 0:\n",
    "    ds = ds.isel(time=slice( time_diff, None))\n",
    "\n",
    "# sample to daily\n",
    "ds_daily = ds.resample(time='D').mean()\n",
    "\n",
    "\n",
    "# sample to daily to max, min, mean and sum of variables\n",
    "ds_daily['TMAXobs'] = ds['RDRS_v2.1_P_TT_1.5m'].resample(time='D').max() - 273.15 # kelvin to C\n",
    "ds_daily['TMINobs'] = ds['RDRS_v2.1_P_TT_1.5m'].resample(time='D').min() - 273.15 # kelvin to C\n",
    "ds_daily['Tobs'] = ds['RDRS_v2.1_P_TT_1.5m'].resample(time='D').mean() - 273.15 # kelvin to C\n",
    "ds_daily['Pobs'] = ds['RDRS_v2.1_P_PR0_SFC'].resample(time='D').sum()\n",
    "\n",
    "ds_daily = ds_daily.drop_vars(['RDRS_v2.1_P_PR0_SFC',\\\n",
    "                               'RDRS_v2.1_P_TT_1.5m'])\n",
    "\n",
    "# # Tmax\n",
    "# TMAXobs = ds_daily\n",
    "# TMAXobs = TMAXobs.drop_vars(['TMINobs','Tobs','Pobs'])\n",
    "# TMAXobs.to_netcdf('/home/shg096/scratch/Bow_at_Calgary/HYPE/TMAXobs.nc')\n",
    "\n",
    "# #Tmin\n",
    "# TMINobs = ds_daily\n",
    "# TMINobs = TMINobs.drop_vars(['TMAXobs','Tobs','Pobs'])\n",
    "# TMINobs.to_netcdf('/home/shg096/scratch/Bow_at_Calgary/HYPE/TMINobs.nc')\n",
    "\n",
    "# #T\n",
    "# Tobs = ds_daily\n",
    "# Tobs = Tobs.drop_vars(['TMAXobs','TMINobs','Pobs'])\n",
    "# Tobs.to_netcdf('/home/shg096/scratch/Bow_at_Calgary/HYPE/Tobs.nc')\n",
    "\n",
    "# #P\n",
    "# Pobs = ds_daily\n",
    "# Pobs = Pobs.drop_vars(['TMAXobs','TMINobs','Tobs'])\n",
    "# Pobs.to_netcdf('/home/shg096/scratch/Bow_at_Calgary/HYPE/Pobs.nc')\n"
   ]
  },
  {
   "cell_type": "code",
   "execution_count": 3,
   "id": "e7074379-56af-4011-9103-f586709a7074",
   "metadata": {},
   "outputs": [],
   "source": [
    "ds_daily = ds_daily.drop_vars(['lat','lon'])"
   ]
  },
  {
   "cell_type": "code",
   "execution_count": 5,
   "id": "6a19503b-cca7-47e5-b78b-b10a78171a03",
   "metadata": {},
   "outputs": [],
   "source": [
    "ds_daily_df_Tmax = ds_daily['TMAXobs'].to_dataframe()\n",
    "ds_daily_df_Tmax = ds_daily_df_Tmax.unstack()\n",
    "ds_daily_df_Tmax = ds_daily_df_Tmax.T\n",
    "ds_daily_df_Tmax = ds_daily_df_Tmax.droplevel(level=0, axis=0)\n",
    "ds_daily_df_Tmax.columns.name = None\n",
    "ds_daily_df_Tmax.index.name = 'Date'\n",
    "ds_daily_df_Tmax\n",
    "ds_daily_df_Tmax.to_csv('/home/shg096/scratch/Bow_at_Calgary/HYPE/TMAXobs.txt',\\\n",
    "                        sep='\\t', na_rep='', index_label='time', float_format='%.1f')\n"
   ]
  },
  {
   "cell_type": "code",
   "execution_count": 6,
   "id": "b4274fdf-9505-43d4-8a34-92631c99c032",
   "metadata": {},
   "outputs": [],
   "source": [
    "ds_daily_df_Tmin = ds_daily['TMINobs'].to_dataframe()\n",
    "ds_daily_df_Tmin = ds_daily_df_Tmin.unstack()\n",
    "ds_daily_df_Tmin = ds_daily_df_Tmin.T\n",
    "ds_daily_df_Tmin = ds_daily_df_Tmin.droplevel(level=0, axis=0)\n",
    "ds_daily_df_Tmin.columns.name = None\n",
    "ds_daily_df_Tmin.index.name = 'Date'\n",
    "ds_daily_df_Tmin\n",
    "ds_daily_df_Tmin.to_csv('/home/shg096/scratch/Bow_at_Calgary/HYPE/TMINobs.txt',\\\n",
    "                        sep='\\t', na_rep='', index_label='time', float_format='%.1f')\n"
   ]
  },
  {
   "cell_type": "code",
   "execution_count": 7,
   "id": "8bd48d29-f2bd-4ce1-9b79-5eaec508d7c8",
   "metadata": {},
   "outputs": [],
   "source": [
    "ds_daily_df_Tmean = ds_daily['Tobs'].to_dataframe()\n",
    "ds_daily_df_Tmean = ds_daily_df_Tmean.unstack()\n",
    "ds_daily_df_Tmean = ds_daily_df_Tmean.T\n",
    "ds_daily_df_Tmean = ds_daily_df_Tmean.droplevel(level=0, axis=0)\n",
    "ds_daily_df_Tmean.columns.name = None\n",
    "ds_daily_df_Tmean.index.name = 'Date'\n",
    "ds_daily_df_Tmean\n",
    "ds_daily_df_Tmean.to_csv('/home/shg096/scratch/Bow_at_Calgary/HYPE/Tobs.txt',\\\n",
    "                         sep='\\t', na_rep='', index_label='time', float_format='%.1f')\n"
   ]
  },
  {
   "cell_type": "code",
   "execution_count": 8,
   "id": "1de713be-8bf1-4006-b7a0-f9966fe73a05",
   "metadata": {},
   "outputs": [],
   "source": [
    "ds_daily_df_Pobs = ds_daily['Pobs'].to_dataframe()\n",
    "ds_daily_df_Pobs = ds_daily_df_Pobs.unstack()\n",
    "ds_daily_df_Pobs = ds_daily_df_Pobs.T\n",
    "ds_daily_df_Pobs = ds_daily_df_Pobs.droplevel(level=0, axis=0)\n",
    "ds_daily_df_Pobs.columns.name = None\n",
    "ds_daily_df_Pobs.index.name = 'Date'\n",
    "ds_daily_df_Pobs\n",
    "ds_daily_df_Pobs.to_csv('/home/shg096/scratch/Bow_at_Calgary/HYPE/Pobs.txt',\\\n",
    "                         sep='\\t', na_rep='', index_label='time', float_format='%.1f')"
   ]
  },
  {
   "cell_type": "code",
   "execution_count": null,
   "id": "daacdcdc-d94c-4919-a738-fa5a466b77a0",
   "metadata": {},
   "outputs": [],
   "source": []
  },
  {
   "cell_type": "code",
   "execution_count": null,
   "id": "da85b85d-0eb4-4068-8939-1751d52b9c78",
   "metadata": {},
   "outputs": [],
   "source": []
  }
 ],
 "metadata": {
  "kernelspec": {
   "display_name": "fhimp_venv",
   "language": "python",
   "name": "fhimp_venv"
  },
  "language_info": {
   "codemirror_mode": {
    "name": "ipython",
    "version": 3
   },
   "file_extension": ".py",
   "mimetype": "text/x-python",
   "name": "python",
   "nbconvert_exporter": "python",
   "pygments_lexer": "ipython3",
   "version": "3.10.2"
  }
 },
 "nbformat": 4,
 "nbformat_minor": 5
}
