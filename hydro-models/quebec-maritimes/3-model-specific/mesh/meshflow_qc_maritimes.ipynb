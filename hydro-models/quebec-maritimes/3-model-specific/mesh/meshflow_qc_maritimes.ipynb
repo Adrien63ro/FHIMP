{
 "cells": [
  {
   "cell_type": "code",
   "execution_count": null,
   "id": "483fac00-27c6-4d77-bccb-81b2c1af3dea",
   "metadata": {},
   "outputs": [],
   "source": [
    "import meshflow\n",
    "\n",
    "import os"
   ]
  },
  {
   "cell_type": "code",
   "execution_count": null,
   "id": "24c28351-852d-4b1f-b82b-ee94367af0de",
   "metadata": {
    "tags": []
   },
   "outputs": [],
   "source": [
    "# main work path\n",
    "work_path = '/path/to/qc_maritimes/'\n",
    "\n",
    "config = {\n",
    "    'riv': os.path.join(work_path, 'geofabric', 'region_rivers.shp'),\n",
    "    'cat': os.path.join(work_path, 'geofabric', 'region_catchments.shp'),\n",
    "    'landcover': os.path.join(work_path, 'gistool_outputs', 'landsat', 'qc_maritimes_stats_NA_NALCMS_landcover_2020_30m.csv'),\n",
    "    'forcing_files': os.path.join(work_path, 'easymore_outputs', 'remapped'),\n",
    "    'forcing_vars': [\n",
    "        'RDRS_v2.1_P_UVC_10m',\n",
    "        'RDRS_v2.1_P_FI_SFC',\n",
    "        'RDRS_v2.1_P_FB_SFC',\n",
    "        'RDRS_v2.1_P_PR0_SFC',\n",
    "        'RDRS_v2.1_P_P0_SFC',\n",
    "        'RDRS_v2.1_P_TT_1.5m',\n",
    "        'RDRS_v2.1_P_HU_1.5m',\n",
    "    ],\n",
    "    'forcing_units': {\n",
    "        'RDRS_v2.1_P_P0_SFC': 'millibar',\n",
    "        'RDRS_v2.1_P_HU_1.5m': 'kg/kg',\n",
    "        'RDRS_v2.1_P_TT_1.5m': 'celsius',\n",
    "        'RDRS_v2.1_P_UVC_10m': 'm/s',\n",
    "        'RDRS_v2.1_P_PR0_SFC': 'm/hr',\n",
    "        'RDRS_v2.1_P_FB_SFC': 'W/m^2',\n",
    "        'RDRS_v2.1_P_FI_SFC': 'W/m^2',\n",
    "    },\n",
    "    'forcing_to_units': {\n",
    "         'RDRS_v2.1_P_UVC_10m': 'm/s',\n",
    "         'RDRS_v2.1_P_FI_SFC': 'W/m^2',\n",
    "         'RDRS_v2.1_P_FB_SFC': 'W/m^2',\n",
    "         'RDRS_v2.1_P_PR0_SFC': 'mm/s',\n",
    "         'RDRS_v2.1_P_P0_SFC': 'pascal',\n",
    "         'RDRS_v2.1_P_TT_1.5m': 'kelvin',\n",
    "         'RDRS_v2.1_P_HU_1.5m': 'kg/kg',\n",
    "    },\n",
    "    'main_id': 'COMID',\n",
    "    'ds_main_id': 'NextDownID',\n",
    "    'landcover_classes': {\n",
    "        1: 'Temperate or sub-polar needleleaf forest',\n",
    "        2: 'Sub-polar taiga needleleaf forest',\n",
    "        3: 'Tropical or sub-tropical broadleaf evergreen forest',\n",
    "        4: 'Tropical or sub-tropical broadleaf deciduous forest',\n",
    "        5: 'Temperate or sub-polar broadleaf deciduous forest',\n",
    "        6: 'Mixed forest',\n",
    "        7: 'Tropical or sub-tropical shrubland',\n",
    "        8: 'Temperate or sub-polar shrubland',\n",
    "        9: 'Tropical or sub-tropical grassland',\n",
    "        10: 'Temperate or sub-polar grassland',\n",
    "        11: 'Sub-polar or polar shrubland-lichen-moss',\n",
    "        12: 'Sub-polar or polar grassland-lichen-moss',\n",
    "        13: 'Sub-polar or polar barren-lichen-moss',\n",
    "        14: 'Wetland',\n",
    "        15: 'Cropland',\n",
    "        16: 'Barren lands',\n",
    "        17: 'Urban',\n",
    "        18: 'Water',\n",
    "        19: 'Snow and Ice',\n",
    "    },\n",
    "    'ddb_vars': {\n",
    "        'slope': 'ChnlSlope',\n",
    "        'lengthkm': 'ChnlLength',\n",
    "        'Rank': 'Rank',\n",
    "        'Next': 'Next',\n",
    "        'landcover': 'GRU',\n",
    "        'unitarea': 'GridArea',\n",
    "        'landcover_names': 'LandUse',\n",
    "    },\n",
    "    'ddb_units': {\n",
    "        'ChnlSlope': 'm/m',\n",
    "        'ChnlLength': 'km',\n",
    "        'Rank': 'dimensionless',\n",
    "        'Next': 'dimensionless',\n",
    "        'GRU': 'dimensionless',\n",
    "        'GridArea': 'km^2',\n",
    "        'LandUse': 'dimensionless',\n",
    "    },\n",
    "    'ddb_to_units': {\n",
    "        'ChnlSlope': 'm/m',\n",
    "        'ChnlLength': 'm',\n",
    "        'Rank': 'dimensionless',\n",
    "        'Next': 'dimensionless',\n",
    "        'GRU': 'dimensionless',\n",
    "        'GridArea': 'm^2',\n",
    "        'LandUse': 'dimensionless',\n",
    "    },\n",
    "    'ddb_min_values': {\n",
    "        'ChnlSlope': 1e-10,\n",
    "        'ChnlLength': 1,\n",
    "        'GridArea': 1,\n",
    "    },\n",
    "}"
   ]
  },
  {
   "cell_type": "code",
   "execution_count": null,
   "id": "c58c6f35-532c-4477-a0d6-d3fdbfa78f2d",
   "metadata": {
    "tags": []
   },
   "outputs": [],
   "source": [
    "exp1 = meshflow.MESHWorkflow(**config)"
   ]
  },
  {
   "cell_type": "code",
   "execution_count": null,
   "id": "3ac7f71b-2f09-460a-87f1-fa41b98aaa9b",
   "metadata": {},
   "outputs": [],
   "source": [
    "exp1.run()"
   ]
  },
  {
   "cell_type": "code",
   "execution_count": null,
   "id": "8c90482c-72af-46c8-a8bf-0d79c8560b39",
   "metadata": {},
   "outputs": [],
   "source": [
    "exp1.forcing"
   ]
  },
  {
   "cell_type": "code",
   "execution_count": null,
   "id": "3924ad83-e16e-43c1-9ce3-967e363348b1",
   "metadata": {},
   "outputs": [],
   "source": [
    "exp1.ddb"
   ]
  },
  {
   "cell_type": "code",
   "execution_count": null,
   "id": "0591dbd9-75f1-44bb-bd85-f0516be84b84",
   "metadata": {},
   "outputs": [],
   "source": [
    "exp1.save('/home/kasra545/scratch/ab_models/mesh_model/')"
   ]
  },
  {
   "cell_type": "markdown",
   "id": "6deca0e6-4195-4671-a66c-c625f43d2c1d",
   "metadata": {},
   "source": [
    "____"
   ]
  }
 ],
 "metadata": {
  "kernelspec": {
   "display_name": "fhimp-env",
   "language": "python",
   "name": "fhimp-env"
  },
  "language_info": {
   "codemirror_mode": {
    "name": "ipython",
    "version": 3
   },
   "file_extension": ".py",
   "mimetype": "text/x-python",
   "name": "python",
   "nbconvert_exporter": "python",
   "pygments_lexer": "ipython3",
   "version": "3.10.2"
  }
 },
 "nbformat": 4,
 "nbformat_minor": 5
}
